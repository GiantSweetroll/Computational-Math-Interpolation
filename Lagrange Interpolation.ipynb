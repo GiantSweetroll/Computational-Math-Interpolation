{
 "cells": [
  {
   "cell_type": "markdown",
   "metadata": {},
   "source": [
    "<h1>Lagrange Interpolation<h1>"
   ]
  },
  {
   "cell_type": "markdown",
   "metadata": {},
   "source": [
    "<h3>The Theory</h3>"
   ]
  },
  {
   "cell_type": "markdown",
   "metadata": {},
   "source": [
    "Lagrange's Method is one of the ways for data interpolation from a set of known data points. With this method, we can interpolate the value of f(x) from any value of x from within the data set. Here is the formula:"
   ]
  },
  {
   "cell_type": "markdown",
   "metadata": {},
   "source": [
    "![title](img/lagrange_formula.png)"
   ]
  },
  {
   "cell_type": "markdown",
   "metadata": {},
   "source": [
    "Where: <br>\n",
    "<b>n</b> = the degree of polynomial (for linear n = 1, quadratic n = 2, and so on) <br>\n",
    "<b>Li(x)</b> = the weighting function"
   ]
  },
  {
   "cell_type": "markdown",
   "metadata": {},
   "source": [
    "To get the weighting function, the formula is:"
   ]
  },
  {
   "cell_type": "markdown",
   "metadata": {},
   "source": [
    "![title](img/lag_weight_func.png)"
   ]
  },
  {
   "cell_type": "markdown",
   "metadata": {},
   "source": [
    "For some people this formula might seem quite daunting and scaary even. However, this formula is just the equivalent of"
   ]
  },
  {
   "cell_type": "markdown",
   "metadata": {},
   "source": [
    "![title](img/lag_weight_func_exp.png)"
   ]
  },
  {
   "cell_type": "markdown",
   "metadata": {},
   "source": [
    "<h3>Doing it in Python<h3>"
   ]
  },
  {
   "cell_type": "markdown",
   "metadata": {},
   "source": [
    "First let's make a list of the data points we know."
   ]
  },
  {
   "cell_type": "code",
   "execution_count": 9,
   "metadata": {},
   "outputs": [
    {
     "data": {
      "text/plain": [
       "[[0, 0],\n",
       " [10, 227.04],\n",
       " [15, 362.78],\n",
       " [20, 517.35],\n",
       " [22.5, 602.97],\n",
       " [30, 901.67]]"
      ]
     },
     "execution_count": 9,
     "metadata": {},
     "output_type": "execute_result"
    }
   ],
   "source": [
    "xy_values = []\n",
    "\n",
    "#Initialize x and y values (make sure the X values are in order)\n",
    "xy_values.append([0, 0])\n",
    "xy_values.append([10, 227.04])\n",
    "xy_values.append([15, 362.78])\n",
    "xy_values.append([20, 517.35])\n",
    "xy_values.append([22.5, 602.97])\n",
    "xy_values.append([30, 901.67])\n",
    "\n",
    "xy_values"
   ]
  },
  {
   "cell_type": "markdown",
   "metadata": {},
   "source": [
    "Next let's decide on the order of polynomial to interpolate our data with. We will store it in a variable called <i>n</i>. For reference, to do a linear interpolation, we put our <i>n</i> value as 1. For quadratic <i>n</i> = 2, cubic <i>n</i> = 3, and so on."
   ]
  },
  {
   "cell_type": "code",
   "execution_count": 29,
   "metadata": {},
   "outputs": [],
   "source": [
    "n = 1"
   ]
  },
  {
   "cell_type": "markdown",
   "metadata": {},
   "source": [
    "Now let's choose a value of <i>x</i> to interpolate. Obviously, the value of <i>x</i> needs to be within our known data points, otherwise we won't be able to interpolate (that would be extrapolation)."
   ]
  },
  {
   "cell_type": "code",
   "execution_count": 12,
   "metadata": {},
   "outputs": [],
   "source": [
    "xVal = 16"
   ]
  },
  {
   "cell_type": "markdown",
   "metadata": {},
   "source": [
    "Next we need to pick <b>two</b> points from our known data points that sandwhiches our <i>xVal</i>. We will be keeping track on the indexes. So if our <i>xVal</i> is <b>16</b>, we will be picking the x values <b>15</b> and <b>20</b> because 16 lies between them. As we see in our <i>xy_values</i> list, 15 and 20 are positioned in the indexes <b>2</b> and <b>3</b> respectively. Hence, we take a note of that in a new list."
   ]
  },
  {
   "cell_type": "code",
   "execution_count": 31,
   "metadata": {},
   "outputs": [
    {
     "data": {
      "text/plain": [
       "[2, 3]"
      ]
     },
     "execution_count": 31,
     "metadata": {},
     "output_type": "execute_result"
    }
   ],
   "source": [
    "#Select the two data points between the selected xVal\n",
    "indexes = []\n",
    "for i in range(len(xy_values)-1):\n",
    "    if xy_values[i][0] < xVal and xy_values[i+1][0] > xVal:\n",
    "        indexes.append(i)\n",
    "        indexes.append(i+1)\n",
    "        \n",
    "indexes"
   ]
  },
  {
   "cell_type": "markdown",
   "metadata": {},
   "source": [
    "If <i>n</i> = 1 (linear), we can go directly to finding the weighting function. However, when <i>n</i> > 1, we have to also select adjacent x values from our two chosen data points. Take note to always pick the data point closest to <i>xVal</i>.\n",
    "\n",
    "For example when <b><i>n</i> = 3</b>:\n",
    "1. Compare <b>10</b> and <b>22.5</b>\n",
    "2. <b>10</b> is closer to <b>16</b> than 22.5. So we choose that.\n",
    "3. <b><i>indexes</i></b> will now house [1, 2, 3]. Take note to keep track the indexes in ascending order.\n",
    "\n",
    "For example when <b><i>n</i> = 4</b>:\n",
    "1. We add one more data point from when <i>n</i> = 3.\n",
    "2. Compare <b>0</b> and <b>22.5</b>\n",
    "2. <b>22.5</b> is closer to <b>16</b> than 0. So we choose that.\n",
    "3. <b><i>indexes</i></b> will now house [1, 2, 3, 4].\n",
    "\n",
    "Try to play with the value of <i>n</i> and see what indexes you will get."
   ]
  },
  {
   "cell_type": "code",
   "execution_count": 32,
   "metadata": {},
   "outputs": [
    {
     "data": {
      "text/plain": [
       "[2, 3]"
      ]
     },
     "execution_count": 32,
     "metadata": {},
     "output_type": "execute_result"
    }
   ],
   "source": [
    "#Find the other data points when n>1\n",
    "for i in range(n-1):\n",
    "    #find the value nearest to xVal\n",
    "    leftIndex = indexes[0]-1\n",
    "    rightIndex = indexes[len(indexes)-1] + 1\n",
    "    #Check if the adjacent index exists in the given xy_values data\n",
    "    if (leftIndex > -1):\n",
    "        if (rightIndex < len(xy_values)):\n",
    "            #Check which one is closer to xVal\n",
    "            if (abs(xy_values[leftIndex][0] - xVal) < abs(xy_values[rightIndex][0] - xVal)):\n",
    "                indexes.insert(0, leftIndex)\n",
    "            else:\n",
    "                indexes.append(rightIndex)\n",
    "        else:\n",
    "            indexes.insert(0, leftIndex)\n",
    "    elif (rightIndex < len(xy_values)):\n",
    "        indexes.append(rightIndex)\n",
    "        \n",
    "indexes"
   ]
  },
  {
   "cell_type": "markdown",
   "metadata": {},
   "source": [
    "Now we can go ahead and try to find the weighting functions. We will be using <b>Sympy</b> to help us keep track of variables and automatically calculate the final result. Let's start by importing Sympy library."
   ]
  },
  {
   "cell_type": "code",
   "execution_count": 35,
   "metadata": {},
   "outputs": [],
   "source": [
    "import sympy as sp\n",
    "\n",
    "t = sp.Symbol('t');"
   ]
  },
  {
   "cell_type": "code",
   "execution_count": 36,
   "metadata": {},
   "outputs": [
    {
     "data": {
      "text/plain": [
       "[[[0, 1]], [[1, 0]]]"
      ]
     },
     "execution_count": 36,
     "metadata": {},
     "output_type": "execute_result"
    }
   ],
   "source": [
    "wFunc = []      #Collection of Ln(t)\n",
    "for i in range(n+1):\n",
    "    subFunc = []    #Collection of individual (t - tj)/(ti-tj)\n",
    "    for j in range(n+1):\n",
    "        #j != i\n",
    "        if i != j:\n",
    "            #(t - tj)/(ti-tj)\n",
    "            #sub = [i, j]\n",
    "            #sub[0] = ti\n",
    "            #sub[1] = tj\n",
    "            sub = []\n",
    "            sub.append(i)\n",
    "            sub.append(j)\n",
    "            subFunc.append(sub)\n",
    "    wFunc.append(subFunc)\n",
    "\n",
    "wFunc"
   ]
  },
  {
   "cell_type": "code",
   "execution_count": 37,
   "metadata": {},
   "outputs": [],
   "source": [
    "total = 0\n",
    "for i in range(len(wFunc)):\n",
    "    weight_function_prod = 1\n",
    "    for a in range(len(wFunc[i])):\n",
    "        iIndex = wFunc[i][a][0]\n",
    "        index = indexes[iIndex]\n",
    "        ti = xy_values[index][0]\n",
    "        jIndex = wFunc[i][a][1]\n",
    "        index = indexes[jIndex]\n",
    "        tj = xy_values[index][0]\n",
    "        sub = (t - tj)/ (ti - tj)\n",
    "        weight_function_prod *= sub\n",
    "    #Multiply by f(i)\n",
    "    total += weight_function_prod * xy_values[indexes[i]][1]"
   ]
  },
  {
   "cell_type": "code",
   "execution_count": 38,
   "metadata": {},
   "outputs": [
    {
     "data": {
      "text/latex": [
       "$\\displaystyle 393.694$"
      ],
      "text/plain": [
       "393.694000000000"
      ]
     },
     "execution_count": 38,
     "metadata": {},
     "output_type": "execute_result"
    }
   ],
   "source": [
    "#Solve for xVal\n",
    "result = total.evalf(subs={t : xVal})\n",
    "\n",
    "result"
   ]
  }
 ],
 "metadata": {
  "kernelspec": {
   "display_name": "Python 3",
   "language": "python",
   "name": "python3"
  },
  "language_info": {
   "codemirror_mode": {
    "name": "ipython",
    "version": 3
   },
   "file_extension": ".py",
   "mimetype": "text/x-python",
   "name": "python",
   "nbconvert_exporter": "python",
   "pygments_lexer": "ipython3",
   "version": "3.7.4"
  }
 },
 "nbformat": 4,
 "nbformat_minor": 2
}
