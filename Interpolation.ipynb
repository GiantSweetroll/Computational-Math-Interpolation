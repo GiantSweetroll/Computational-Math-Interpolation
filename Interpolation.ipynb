{
 "cells": [
  {
   "cell_type": "markdown",
   "metadata": {},
   "source": [
    "<h1>INTERPOLATIONS</h1>"
   ]
  },
  {
   "cell_type": "markdown",
   "metadata": {},
   "source": [
    "<h2>Lagrange Interpolation</h2>"
   ]
  },
  {
   "cell_type": "markdown",
   "metadata": {},
   "source": [
    "<h3>The Theory</h3>"
   ]
  },
  {
   "cell_type": "markdown",
   "metadata": {},
   "source": [
    "Lagrange's Method is one of the ways for data interpolation from a set of known data points. With this method, we can interpolate the value of f(x) from any value of x from within the data set. Here is the formula:"
   ]
  },
  {
   "cell_type": "markdown",
   "metadata": {},
   "source": [
    "![title](img/lagrange_formula.png)"
   ]
  },
  {
   "cell_type": "markdown",
   "metadata": {},
   "source": [
    "Where: <br>\n",
    "<b>n</b> = the degree of polynomial (for linear n = 1, quadratic n = 2, and so on) <br>\n",
    "<b>Li(x)</b> = the weighting function"
   ]
  },
  {
   "cell_type": "markdown",
   "metadata": {},
   "source": [
    "To get the weighting function, the formula is:"
   ]
  },
  {
   "cell_type": "markdown",
   "metadata": {},
   "source": [
    "![title](img/lag_weight_func.png)"
   ]
  },
  {
   "cell_type": "markdown",
   "metadata": {},
   "source": [
    "For some people this formula might seem quite daunting or scary even. However, this formula is just the equivalent of"
   ]
  },
  {
   "cell_type": "markdown",
   "metadata": {},
   "source": [
    "![title](img/lag_weight_func_exp.png)"
   ]
  },
  {
   "cell_type": "markdown",
   "metadata": {},
   "source": [
    "<h3>Doing it in Python</h3>"
   ]
  },
  {
   "cell_type": "markdown",
   "metadata": {},
   "source": [
    "First let's make a list of the data points we know."
   ]
  },
  {
   "cell_type": "code",
   "execution_count": 1,
   "metadata": {},
   "outputs": [
    {
     "data": {
      "text/plain": [
       "[[0, 0],\n",
       " [10, 227.04],\n",
       " [15, 362.78],\n",
       " [20, 517.35],\n",
       " [22.5, 602.97],\n",
       " [30, 901.67]]"
      ]
     },
     "execution_count": 1,
     "metadata": {},
     "output_type": "execute_result"
    }
   ],
   "source": [
    "xy_values = []\n",
    "\n",
    "#Initialize x and y values (make sure the X values are in order)\n",
    "xy_values.append([0, 0])\n",
    "xy_values.append([10, 227.04])\n",
    "xy_values.append([15, 362.78])\n",
    "xy_values.append([20, 517.35])\n",
    "xy_values.append([22.5, 602.97])\n",
    "xy_values.append([30, 901.67])\n",
    "\n",
    "xy_values"
   ]
  },
  {
   "cell_type": "markdown",
   "metadata": {},
   "source": [
    "Next let's decide on the order of polynomial to interpolate our data with. We will store it in a variable called <i>n</i>. For reference, to do a linear interpolation, we put our <i>n</i> value as 1. For quadratic <i>n</i> = 2, cubic <i>n</i> = 3, and so on."
   ]
  },
  {
   "cell_type": "code",
   "execution_count": 2,
   "metadata": {},
   "outputs": [],
   "source": [
    "n = 1"
   ]
  },
  {
   "cell_type": "markdown",
   "metadata": {},
   "source": [
    "Now let's choose a value of <i>x</i> to interpolate. Obviously, the value of <i>x</i> needs to be within our known data points, otherwise we won't be able to interpolate (that would be extrapolation)."
   ]
  },
  {
   "cell_type": "code",
   "execution_count": 3,
   "metadata": {},
   "outputs": [],
   "source": [
    "xVal = 16"
   ]
  },
  {
   "cell_type": "markdown",
   "metadata": {},
   "source": [
    "Next we need to pick <b>two</b> points from our known data points that sandwhiches our <i>xVal</i>. We will be keeping track on the indexes. So if our <i>xVal</i> is <b>16</b>, we will be picking the x values <b>15</b> and <b>20</b> because 16 lies between them. As we see in our <i>xy_values</i> list, 15 and 20 are positioned in the indexes <b>2</b> and <b>3</b> respectively. Hence, we take a note of that in a new list."
   ]
  },
  {
   "cell_type": "code",
   "execution_count": 4,
   "metadata": {},
   "outputs": [
    {
     "data": {
      "text/plain": [
       "[2, 3]"
      ]
     },
     "execution_count": 4,
     "metadata": {},
     "output_type": "execute_result"
    }
   ],
   "source": [
    "def get_first2_indexes(xy_values, xVal):\n",
    "    indexes = []\n",
    "    for i in range(len(xy_values)-1):\n",
    "        if xy_values[i][0] < xVal and xy_values[i+1][0] > xVal:\n",
    "            indexes.append(i)\n",
    "            indexes.append(i+1) \n",
    "    return indexes\n",
    "        \n",
    "indexes = get_first2_indexes(xy_values, xVal)\n",
    "indexes"
   ]
  },
  {
   "cell_type": "markdown",
   "metadata": {},
   "source": [
    "If <i>n</i> = 1 (linear), we can go directly to finding the weighting function. However, when <i>n</i> > 1, we have to also select adjacent x values from our two chosen data points. Take note to always pick the data point closest to <i>xVal</i>.\n",
    "\n",
    "For example when <b><i>n</i> = 3</b>:\n",
    "1. Compare <b>10</b> and <b>22.5</b>\n",
    "2. <b>10</b> is closer to <b>16</b> than 22.5. So we choose that.\n",
    "3. <b><i>indexes</i></b> will now house [1, 2, 3]. Take note to keep track the indexes in ascending order.\n",
    "\n",
    "For example when <b><i>n</i> = 4</b>:\n",
    "1. We add one more data point from when <i>n</i> = 3.\n",
    "2. Compare <b>0</b> and <b>22.5</b>\n",
    "2. <b>22.5</b> is closer to <b>16</b> than 0. So we choose that.\n",
    "3. <b><i>indexes</i></b> will now house [1, 2, 3, 4]."
   ]
  },
  {
   "cell_type": "code",
   "execution_count": 5,
   "metadata": {},
   "outputs": [
    {
     "data": {
      "text/plain": [
       "[2, 3]"
      ]
     },
     "execution_count": 5,
     "metadata": {},
     "output_type": "execute_result"
    }
   ],
   "source": [
    "def get_remaining_indexes(xy_values, indexes, xVal, n):\n",
    "    for _ in range(n-1):\n",
    "        #find the value nearest to xVal\n",
    "        leftIndex = indexes[0]-1\n",
    "        rightIndex = indexes[len(indexes)-1] + 1\n",
    "        #Check if the adjacent index exists in the given xy_values data\n",
    "        if (leftIndex > -1):\n",
    "            if (rightIndex < len(xy_values)):\n",
    "                #Check which one is closer to xVal\n",
    "                if (abs(xy_values[leftIndex][0] - xVal) < abs(xy_values[rightIndex][0] - xVal)):\n",
    "                    indexes.insert(0, leftIndex)\n",
    "                else:\n",
    "                    indexes.append(rightIndex)\n",
    "            else:\n",
    "                indexes.insert(0, leftIndex)\n",
    "        elif (rightIndex < len(xy_values)):\n",
    "            indexes.append(rightIndex)\n",
    "\n",
    "get_remaining_indexes(xy_values, indexes, xVal, n)\n",
    "            \n",
    "indexes"
   ]
  },
  {
   "cell_type": "markdown",
   "metadata": {},
   "source": [
    "Now we can go ahead and try to find the weighting functions. We will be using <b>Sympy</b> to help us keep track of variables and automatically calculate the final result. Let's start by importing Sympy library."
   ]
  },
  {
   "cell_type": "code",
   "execution_count": 6,
   "metadata": {},
   "outputs": [],
   "source": [
    "import sympy as sp\n",
    "\n",
    "x = sp.Symbol('x');"
   ]
  },
  {
   "cell_type": "markdown",
   "metadata": {},
   "source": [
    "We will now proceed in determining the weighting function. Recall that the formula is"
   ]
  },
  {
   "cell_type": "markdown",
   "metadata": {},
   "source": [
    "![title](img/lag_weight_func.png)"
   ]
  },
  {
   "cell_type": "code",
   "execution_count": 7,
   "metadata": {},
   "outputs": [
    {
     "data": {
      "text/plain": [
       "[[[0, 1]], [[1, 0]]]"
      ]
     },
     "execution_count": 7,
     "metadata": {},
     "output_type": "execute_result"
    }
   ],
   "source": [
    "def gather_weighting_functions(polynomial):\n",
    "    wFunc = []      #Collection of Ln(x)\n",
    "    for i in range(polynomial+1):\n",
    "        subFunc = []    #Collection of individual (x - xj)/(xi-xj)\n",
    "        for j in range(polynomial+1):\n",
    "            #j != i\n",
    "            if i != j:\n",
    "                #(t - xj)/(xi-xj)\n",
    "                #sub = [i, j]\n",
    "                #sub[0] = xi\n",
    "                #sub[1] = xj\n",
    "                sub = []\n",
    "                sub.append(i)\n",
    "                sub.append(j)\n",
    "                subFunc.append(sub)\n",
    "        wFunc.append(subFunc)\n",
    "        \n",
    "    return wFunc\n",
    "\n",
    "wFunc = gather_weighting_functions(n)\n",
    "wFunc"
   ]
  },
  {
   "cell_type": "markdown",
   "metadata": {},
   "source": [
    "The code above simply stores the values i and j in each of their respective iterations."
   ]
  },
  {
   "cell_type": "markdown",
   "metadata": {},
   "source": [
    "Recall the formula for lagrange's interpolation to be"
   ]
  },
  {
   "cell_type": "markdown",
   "metadata": {},
   "source": [
    "![title](img/lagrange_formula.png)"
   ]
  },
  {
   "cell_type": "markdown",
   "metadata": {},
   "source": [
    "We will now put <b>fn(x)</b> together with the code below (Sympy has the benefit of automatically simplifying our otherwise very long equation):"
   ]
  },
  {
   "cell_type": "code",
   "execution_count": 8,
   "metadata": {},
   "outputs": [
    {
     "data": {
      "text/latex": [
       "$\\displaystyle 30.914 x - 100.93$"
      ],
      "text/plain": [
       "30.914*x - 100.93"
      ]
     },
     "execution_count": 8,
     "metadata": {},
     "output_type": "execute_result"
    }
   ],
   "source": [
    "def get_equation(xy_values, wFunc, indexes, x_symbol):\n",
    "    total = 0\n",
    "    for i in range(len(wFunc)):\n",
    "        weight_function_prod = 1\n",
    "        for a in range(len(wFunc[i])):\n",
    "            iIndex = wFunc[i][a][0]\n",
    "            index = indexes[iIndex]\n",
    "            xi = xy_values[index][0]\n",
    "            jIndex = wFunc[i][a][1]\n",
    "            index = indexes[jIndex]\n",
    "            xj = xy_values[index][0]\n",
    "            sub = (x_symbol - xj)/ (xi - xj)\n",
    "            weight_function_prod *= sub\n",
    "        #Multiply by f(i)\n",
    "        total += weight_function_prod * xy_values[indexes[i]][1]\n",
    "\n",
    "    return sp.simplify(total)\n",
    "    \n",
    "equation = get_equation(xy_values, wFunc, indexes, x)\n",
    "equation"
   ]
  },
  {
   "cell_type": "markdown",
   "metadata": {},
   "source": [
    "We are not done however, because we are interested in the value of <b>y</b> when x is our <b><i>xVal</i></b>, which is <b>16</b>. To solve this, we can call Sympy's <b>evalf()</b> function on our <i>equation</i> variable. "
   ]
  },
  {
   "cell_type": "code",
   "execution_count": 9,
   "metadata": {},
   "outputs": [
    {
     "data": {
      "text/latex": [
       "$\\displaystyle 393.694$"
      ],
      "text/plain": [
       "393.694000000000"
      ]
     },
     "execution_count": 9,
     "metadata": {},
     "output_type": "execute_result"
    }
   ],
   "source": [
    "#Solve for xVal\n",
    "result = equation.evalf(subs={x : xVal})\n",
    "\n",
    "result"
   ]
  },
  {
   "cell_type": "markdown",
   "metadata": {},
   "source": [
    "If we graph our findings it will look like this"
   ]
  },
  {
   "cell_type": "code",
   "execution_count": 10,
   "metadata": {},
   "outputs": [
    {
     "name": "stdout",
     "output_type": "stream",
     "text": [
      "y = 30.914*x - 100.93\n"
     ]
    },
    {
     "data": {
      "image/png": "[encoded data removed]",
      "text/plain": [
       "<Figure size 432x288 with 1 Axes>"
      ]
     },
     "metadata": {
      "needs_background": "light"
     },
     "output_type": "display_data"
    }
   ],
   "source": [
    "def graph_lagrange(xy_values, equation, xVal, result, x_symbol):\n",
    "    #Graphing\n",
    "    %matplotlib inline\n",
    "    import matplotlib.pyplot as plt\n",
    "    #split x and y\n",
    "    x_values = []\n",
    "    y_values = []\n",
    "\n",
    "    for i in range(len(xy_values)):\n",
    "        x_values.append(xy_values[i][0])\n",
    "        y_values.append(xy_values[i][1])\n",
    "\n",
    "    #Generate x and y\n",
    "    new_x_values = []\n",
    "    new_y_values = []\n",
    "    for i in range(int(min(x_values) * 100), int(max(x_values) * 100), 1):\n",
    "        new_x_values.append(i/100)\n",
    "        new_y_values.append(equation.evalf(subs={x_symbol:i/100}))\n",
    "\n",
    "    plt.plot(x_values, y_values, 'o', label='data')\n",
    "    plt.plot(new_x_values, new_y_values, '-', label='equation')\n",
    "    plt.plot([xVal], [result], '+', label=\"interpolated data\")\n",
    "    plt.legend()\n",
    "    plt.xlabel(\"X\")\n",
    "    plt.ylabel(\"Y\")\n",
    "\n",
    "    print(\"y =\", equation)\n",
    "    plt.show()\n",
    "    \n",
    "graph_lagrange(xy_values, equation, xVal, result, x)"
   ]
  },
  {
   "cell_type": "markdown",
   "metadata": {},
   "source": [
    "Notice how our interpolated <i>xVal</i> lies within our predicted equation, but not all of our known data points. There are some that are relatively quite far away from the equation line. In order to reduce this, we need to use a <b>higher</b> level polynomial (a higher value for <b>n</b>). Do take note that the highest level of polynomial you can do is equal to the number of data points you have minus 1. This is because you do not have enough data points to use a higher degree polynomial."
   ]
  },
  {
   "cell_type": "markdown",
   "metadata": {},
   "source": [
    "<h3>Try it Yourself!</h3>"
   ]
  },
  {
   "cell_type": "markdown",
   "metadata": {},
   "source": [
    "Try experimenting with Lagrange's Interpolation yourself with your own data inputs. <br>\n",
    "Let's start with the data points that you know:"
   ]
  },
  {
   "cell_type": "code",
   "execution_count": 11,
   "metadata": {},
   "outputs": [
    {
     "data": {
      "text/plain": [
       "[[0, 0],\n",
       " [10, 227.04],\n",
       " [15, 362.78],\n",
       " [20, 517.35],\n",
       " [22.5, 602.97],\n",
       " [30, 901.67]]"
      ]
     },
     "execution_count": 11,
     "metadata": {},
     "output_type": "execute_result"
    }
   ],
   "source": [
    "xy_values = []\n",
    "\n",
    "#Initialize x and y values (make sure the X values are in order)\n",
    "xy_values.append([0, 0])\n",
    "xy_values.append([10, 227.04])\n",
    "xy_values.append([15, 362.78])\n",
    "xy_values.append([20, 517.35])\n",
    "xy_values.append([22.5, 602.97])\n",
    "xy_values.append([30, 901.67])\n",
    "\n",
    "xy_values"
   ]
  },
  {
   "cell_type": "markdown",
   "metadata": {},
   "source": [
    "Now for what value of x do you want to find?"
   ]
  },
  {
   "cell_type": "code",
   "execution_count": 12,
   "metadata": {},
   "outputs": [
    {
     "data": {
      "text/plain": [
       "16"
      ]
     },
     "execution_count": 12,
     "metadata": {},
     "output_type": "execute_result"
    }
   ],
   "source": [
    "xVal = 16\n",
    "xVal"
   ]
  },
  {
   "cell_type": "markdown",
   "metadata": {},
   "source": [
    "And what order of polynomial would you like to use? <br>\n",
    "Note: Be sure to set your value of <b>n</b> to be the amount of data points -1. If you have 6 data points, your max value for <b>n</b> is 5."
   ]
  },
  {
   "cell_type": "code",
   "execution_count": 13,
   "metadata": {},
   "outputs": [
    {
     "data": {
      "text/plain": [
       "3"
      ]
     },
     "execution_count": 13,
     "metadata": {},
     "output_type": "execute_result"
    }
   ],
   "source": [
    "n = 3    #Order/degree of polynomial\n",
    "#n = len(xy_values) - 1  #Use this to use the highest possible degree of polynomial\n",
    "n"
   ]
  },
  {
   "cell_type": "markdown",
   "metadata": {},
   "source": [
    "Your inputs are now in! (Don't change anything in the code below)"
   ]
  },
  {
   "cell_type": "code",
   "execution_count": 14,
   "metadata": {},
   "outputs": [],
   "source": [
    "import sympy as sp\n",
    "\n",
    "x = sp.Symbol('x');\n",
    "\n",
    "indexes = get_first2_indexes(xy_values, xVal)\n",
    "get_remaining_indexes(xy_values, indexes, xVal, n)\n",
    "wFunc = gather_weighting_functions(n)\n",
    "equation = get_equation(xy_values, wFunc, indexes, x)\n",
    "result = equation.evalf(subs={x : xVal})"
   ]
  },
  {
   "cell_type": "markdown",
   "metadata": {},
   "source": [
    "The code has been baked and here is the result!"
   ]
  },
  {
   "cell_type": "code",
   "execution_count": 15,
   "metadata": {},
   "outputs": [
    {
     "data": {
      "text/latex": [
       "$\\displaystyle 392.057168000002$"
      ],
      "text/plain": [
       "392.057168000002"
      ]
     },
     "execution_count": 15,
     "metadata": {},
     "output_type": "execute_result"
    }
   ],
   "source": [
    "result"
   ]
  },
  {
   "cell_type": "markdown",
   "metadata": {},
   "source": [
    "Now let's see how that looks like in a graph."
   ]
  },
  {
   "cell_type": "code",
   "execution_count": 16,
   "metadata": {},
   "outputs": [
    {
     "name": "stdout",
     "output_type": "stream",
     "text": [
      "y = 0.00543466666666609*x**3 + 0.132040000000028*x**2 + 21.2655333333331*x - 4.25399999999809\n"
     ]
    },
    {
     "data": {
      "image/png": "[encoded data removed]",
      "text/plain": [
       "<Figure size 432x288 with 1 Axes>"
      ]
     },
     "metadata": {
      "needs_background": "light"
     },
     "output_type": "display_data"
    }
   ],
   "source": [
    "graph_lagrange(xy_values, equation, xVal, result, x)"
   ]
  },
  {
   "cell_type": "markdown",
   "metadata": {},
   "source": [
    "How did your graph turn out? Were you able to line up your known data points with your equation line? Maybe try with a higher value of n, or try with an entire different data set. Play around!"
   ]
  },
  {
   "cell_type": "markdown",
   "metadata": {},
   "source": [
    "<h2>Newton Interpolation</h2>"
   ]
  },
  {
   "cell_type": "markdown",
   "metadata": {},
   "source": [
    "<h3>The Theory</h3>"
   ]
  },
  {
   "cell_type": "code",
   "execution_count": null,
   "metadata": {},
   "outputs": [],
   "source": []
  },
  {
   "cell_type": "markdown",
   "metadata": {},
   "source": [
    "<h3>Solving it with Python</h3>"
   ]
  },
  {
   "cell_type": "markdown",
   "metadata": {},
   "source": [
    "Similar to what we did in Lagrange's, we first make a list of the data points we know."
   ]
  },
  {
   "cell_type": "code",
   "execution_count": 17,
   "metadata": {},
   "outputs": [],
   "source": [
    "xy_values = []\n",
    "\n",
    "#Initialize x and y values (make sure the X values are in order)\n",
    "xy_values.append([0, 0])\n",
    "xy_values.append([10, 227.04])\n",
    "xy_values.append([15, 362.78])\n",
    "xy_values.append([20, 517.35])\n",
    "xy_values.append([22.5, 602.97])\n",
    "xy_values.append([30, 901.67])"
   ]
  },
  {
   "cell_type": "markdown",
   "metadata": {},
   "source": [
    "The beauty with Newton's method is that we do not need to specify what order of polynomial we want to use. That is determined by the divided difference table, so let's create that."
   ]
  },
  {
   "cell_type": "code",
   "execution_count": 18,
   "metadata": {},
   "outputs": [
    {
     "data": {
      "text/plain": [
       "[[0, 0, -1, -1, -1, -1, -1],\n",
       " [10, 227.04, -1, -1, -1, -1, -1],\n",
       " [15, 362.78, -1, -1, -1, -1, -1],\n",
       " [20, 517.35, -1, -1, -1, -1, -1],\n",
       " [22.5, 602.97, -1, -1, -1, -1, -1],\n",
       " [30, 901.67, -1, -1, -1, -1, -1]]"
      ]
     },
     "execution_count": 18,
     "metadata": {},
     "output_type": "execute_result"
    }
   ],
   "source": [
    "#Initialize divided difference table\n",
    "table = []\n",
    "\n",
    "for _ in range(len(xy_values)):\n",
    "    temp = []\n",
    "    for _ in range(len(xy_values) + 1):\n",
    "        temp.append(-1)\n",
    "    table.append(temp)\n",
    "        \n",
    "#Insert x and y values to table\n",
    "for i in range(len(xy_values)):\n",
    "    table[i][0] = xy_values[i][0]\n",
    "    table[i][1] = xy_values[i][1]\n",
    "    \n",
    "table"
   ]
  },
  {
   "cell_type": "markdown",
   "metadata": {},
   "source": [
    "We first initialize an empty table by flagging all values with -1. Then we insert our known x and y values there. Next we calculate the table and fill in the remaining empty cells."
   ]
  },
  {
   "cell_type": "code",
   "execution_count": 19,
   "metadata": {},
   "outputs": [
    {
     "data": {
      "text/plain": [
       "[[0, 0, -1, -1, -1, -1, -1],\n",
       " [10, 227.04, 22.704, -1, -1, -1, -1],\n",
       " [15, 362.78, 24.185333333333332, 0.29626666666666635, -1, -1, -1],\n",
       " [20, 517.35, 25.8675, 0.3163499999999999, 0.004016666666666713, -1, -1],\n",
       " [22.5,\n",
       "  602.97,\n",
       "  26.79866666666667,\n",
       "  0.3275733333333335,\n",
       "  0.004174222222222287,\n",
       "  6.302222222222958e-05,\n",
       "  -1],\n",
       " [30,\n",
       "  901.67,\n",
       "  30.055666666666664,\n",
       "  0.36758333333333315,\n",
       "  0.0047544444444444535,\n",
       "  7.377777777777409e-05,\n",
       "  1.434074074072601e-06]]"
      ]
     },
     "execution_count": 19,
     "metadata": {},
     "output_type": "execute_result"
    }
   ],
   "source": [
    "#Do the divided difference table\n",
    "y_bound = 1\n",
    "for col in range(2, len(table[0])):\n",
    "    for row in range(y_bound, len(table)):\n",
    "        try:\n",
    "            delta = (table[row][col-1] - table[y_bound-1][col-1]) / (table[row][0] - table[y_bound-1][0])\n",
    "        except:\n",
    "            delta = 0\n",
    "        table[row][col] = delta\n",
    "    y_bound += 1\n",
    "table"
   ]
  },
  {
   "cell_type": "code",
   "execution_count": 20,
   "metadata": {},
   "outputs": [],
   "source": [
    "#Get an values\n",
    "an = []\n",
    "col = 1\n",
    "for row in range(0, len(table)):\n",
    "    an.append(table[row][col])\n",
    "    col += 1"
   ]
  },
  {
   "cell_type": "code",
   "execution_count": 21,
   "metadata": {},
   "outputs": [
    {
     "data": {
      "text/latex": [
       "$\\displaystyle x \\left(1.4340740740726 \\cdot 10^{-6} x^{4} - 3.3777777777671 \\cdot 10^{-5} x^{3} + 0.00356481481481208 x^{2} + 0.211538888888918 x + 20.2515666666666\\right)$"
      ],
      "text/plain": [
       "x*(1.4340740740726e-6*x**4 - 3.3777777777671e-5*x**3 + 0.00356481481481208*x**2 + 0.211538888888918*x + 20.2515666666666)"
      ]
     },
     "execution_count": 21,
     "metadata": {},
     "output_type": "execute_result"
    }
   ],
   "source": [
    "#create function and simplify it\n",
    "x = sp.Symbol('x')\n",
    "func = 0\n",
    "for a in range(len(an)):\n",
    "    product = an[a]\n",
    "    for i in range(a):\n",
    "        product *= (x - xy_values[i][0])\n",
    "    func += product\n",
    "\n",
    "func = sp.simplify(func)\n",
    "\n",
    "func"
   ]
  },
  {
   "cell_type": "code",
   "execution_count": 22,
   "metadata": {},
   "outputs": [
    {
     "name": "stdout",
     "output_type": "stream",
     "text": [
      "y = x*(1.4340740740726e-6*x**4 - 3.3777777777671e-5*x**3 + 0.00356481481481208*x**2 + 0.211538888888918*x + 20.2515666666666)\n"
     ]
    },
    {
     "data": {
      "image/png": "[encoded data removed]",
      "text/plain": [
       "<Figure size 432x288 with 1 Axes>"
      ]
     },
     "metadata": {
      "needs_background": "light"
     },
     "output_type": "display_data"
    }
   ],
   "source": [
    "#Graphing\n",
    "%matplotlib inline\n",
    "import matplotlib.pyplot as plt\n",
    "#split x and y\n",
    "x_values = []\n",
    "y_values = []\n",
    "\n",
    "for i in range(len(xy_values)):\n",
    "    x_values.append(xy_values[i][0])\n",
    "    y_values.append(xy_values[i][1])\n",
    "\n",
    "#Generate x and y\n",
    "new_x_values = []\n",
    "new_y_values = []\n",
    "for i in range(int(min(x_values) * 100), int(max(x_values) * 100), 1):\n",
    "    new_x_values.append(i/100)\n",
    "    new_y_values.append(func.evalf(subs={x:i/100}))\n",
    "    \n",
    "plt.plot(x_values, y_values, 'o', label='data')\n",
    "plt.plot(new_x_values, new_y_values, '-', label='equation')\n",
    "plt.legend()\n",
    "plt.xlabel(\"X\")\n",
    "plt.ylabel(\"Y\")\n",
    "\n",
    "print(\"y =\", func)\n",
    "plt.show()"
   ]
  }
 ],
 "metadata": {
  "kernelspec": {
   "display_name": "Python 3",
   "language": "python",
   "name": "python3"
  },
  "language_info": {
   "codemirror_mode": {
    "name": "ipython",
    "version": 3
   },
   "file_extension": ".py",
   "mimetype": "text/x-python",
   "name": "python",
   "nbconvert_exporter": "python",
   "pygments_lexer": "ipython3",
   "version": "3.7.4"
  }
 },
 "nbformat": 4,
 "nbformat_minor": 2
}
